{
  "cells": [
    {
      "cell_type": "markdown",
      "metadata": {
        "id": "Mo7ol9bHSEJN"
      },
      "source": [
        "Customer Churn means là tập dữ liệu về dự đoán sự hao hụt khách hàng tại ngân hàng"
      ]
    },
    {
      "cell_type": "markdown",
      "metadata": {
        "id": "ZgsUrpNXvxXF"
      },
      "source": [
        "# 1.Thêm thư viện"
      ]
    },
    {
      "cell_type": "code",
      "execution_count": null,
      "metadata": {
        "id": "zANHEYLI3y00"
      },
      "outputs": [],
      "source": [
        "from google.colab import drive\n",
        "drive.mount('/content/drive')"
      ]
    },
    {
      "cell_type": "code",
      "execution_count": 1,
      "metadata": {
        "_cell_guid": "b1076dfc-b9ad-4769-8c92-a6c4dae69d19",
        "_uuid": "8f2839f25d086af736a60e9eeb907d3b93b6e0e5",
        "execution": {
          "iopub.execute_input": "2022-08-07T17:19:47.255071Z",
          "iopub.status.busy": "2022-08-07T17:19:47.254433Z",
          "iopub.status.idle": "2022-08-07T17:19:47.289153Z",
          "shell.execute_reply": "2022-08-07T17:19:47.287739Z",
          "shell.execute_reply.started": "2022-08-07T17:19:47.254951Z"
        },
        "id": "-ZNxU8NOSEJT",
        "trusted": true
      },
      "outputs": [],
      "source": [
        "import numpy as np \n",
        "import matplotlib.pyplot as plt\n",
        "import seaborn as sns\n",
        "import pandas as pd\n",
        "import warnings\n",
        "warnings.simplefilter(action='ignore', category=FutureWarning)"
      ]
    },
    {
      "cell_type": "markdown",
      "metadata": {
        "id": "JIejsCXBv4E9"
      },
      "source": [
        "# 3.Xử lý dữ liệu"
      ]
    },
    {
      "cell_type": "markdown",
      "metadata": {
        "id": "pYf7c-jiv68z"
      },
      "source": [
        "# 2.Đọc dữ liệu"
      ]
    },
    {
      "cell_type": "code",
      "execution_count": 2,
      "metadata": {
        "colab": {
          "base_uri": "https://localhost:8080/",
          "height": 467
        },
        "execution": {
          "iopub.execute_input": "2022-08-07T17:19:47.292305Z",
          "iopub.status.busy": "2022-08-07T17:19:47.29185Z",
          "iopub.status.idle": "2022-08-07T17:19:47.351063Z",
          "shell.execute_reply": "2022-08-07T17:19:47.349924Z",
          "shell.execute_reply.started": "2022-08-07T17:19:47.29226Z"
        },
        "id": "lApp-XgESEJV",
        "outputId": "bdc12717-53de-438a-a441-cdd1a1ea0415",
        "trusted": true
      },
      "outputs": [
        {
          "data": {
            "text/html": [
              "<div>\n",
              "<style scoped>\n",
              "    .dataframe tbody tr th:only-of-type {\n",
              "        vertical-align: middle;\n",
              "    }\n",
              "\n",
              "    .dataframe tbody tr th {\n",
              "        vertical-align: top;\n",
              "    }\n",
              "\n",
              "    .dataframe thead th {\n",
              "        text-align: right;\n",
              "    }\n",
              "</style>\n",
              "<table border=\"1\" class=\"dataframe\">\n",
              "  <thead>\n",
              "    <tr style=\"text-align: right;\">\n",
              "      <th></th>\n",
              "      <th>RowNumber</th>\n",
              "      <th>CustomerId</th>\n",
              "      <th>Surname</th>\n",
              "      <th>CreditScore</th>\n",
              "      <th>Geography</th>\n",
              "      <th>Gender</th>\n",
              "      <th>Age</th>\n",
              "      <th>Tenure</th>\n",
              "      <th>Balance</th>\n",
              "      <th>NumOfProducts</th>\n",
              "      <th>HasCrCard</th>\n",
              "      <th>IsActiveMember</th>\n",
              "      <th>EstimatedSalary</th>\n",
              "      <th>Exited</th>\n",
              "    </tr>\n",
              "  </thead>\n",
              "  <tbody>\n",
              "    <tr>\n",
              "      <th>0</th>\n",
              "      <td>1</td>\n",
              "      <td>15634602</td>\n",
              "      <td>Hargrave</td>\n",
              "      <td>619</td>\n",
              "      <td>France</td>\n",
              "      <td>Female</td>\n",
              "      <td>42</td>\n",
              "      <td>2</td>\n",
              "      <td>0.00</td>\n",
              "      <td>1</td>\n",
              "      <td>1</td>\n",
              "      <td>1</td>\n",
              "      <td>101348.88</td>\n",
              "      <td>1</td>\n",
              "    </tr>\n",
              "    <tr>\n",
              "      <th>1</th>\n",
              "      <td>2</td>\n",
              "      <td>15647311</td>\n",
              "      <td>Hill</td>\n",
              "      <td>608</td>\n",
              "      <td>Spain</td>\n",
              "      <td>Female</td>\n",
              "      <td>41</td>\n",
              "      <td>1</td>\n",
              "      <td>83807.86</td>\n",
              "      <td>1</td>\n",
              "      <td>0</td>\n",
              "      <td>1</td>\n",
              "      <td>112542.58</td>\n",
              "      <td>0</td>\n",
              "    </tr>\n",
              "    <tr>\n",
              "      <th>2</th>\n",
              "      <td>3</td>\n",
              "      <td>15619304</td>\n",
              "      <td>Onio</td>\n",
              "      <td>502</td>\n",
              "      <td>France</td>\n",
              "      <td>Female</td>\n",
              "      <td>42</td>\n",
              "      <td>8</td>\n",
              "      <td>159660.80</td>\n",
              "      <td>3</td>\n",
              "      <td>1</td>\n",
              "      <td>0</td>\n",
              "      <td>113931.57</td>\n",
              "      <td>1</td>\n",
              "    </tr>\n",
              "    <tr>\n",
              "      <th>3</th>\n",
              "      <td>4</td>\n",
              "      <td>15701354</td>\n",
              "      <td>Boni</td>\n",
              "      <td>699</td>\n",
              "      <td>France</td>\n",
              "      <td>Female</td>\n",
              "      <td>39</td>\n",
              "      <td>1</td>\n",
              "      <td>0.00</td>\n",
              "      <td>2</td>\n",
              "      <td>0</td>\n",
              "      <td>0</td>\n",
              "      <td>93826.63</td>\n",
              "      <td>0</td>\n",
              "    </tr>\n",
              "    <tr>\n",
              "      <th>4</th>\n",
              "      <td>5</td>\n",
              "      <td>15737888</td>\n",
              "      <td>Mitchell</td>\n",
              "      <td>850</td>\n",
              "      <td>Spain</td>\n",
              "      <td>Female</td>\n",
              "      <td>43</td>\n",
              "      <td>2</td>\n",
              "      <td>125510.82</td>\n",
              "      <td>1</td>\n",
              "      <td>1</td>\n",
              "      <td>1</td>\n",
              "      <td>79084.10</td>\n",
              "      <td>0</td>\n",
              "    </tr>\n",
              "    <tr>\n",
              "      <th>...</th>\n",
              "      <td>...</td>\n",
              "      <td>...</td>\n",
              "      <td>...</td>\n",
              "      <td>...</td>\n",
              "      <td>...</td>\n",
              "      <td>...</td>\n",
              "      <td>...</td>\n",
              "      <td>...</td>\n",
              "      <td>...</td>\n",
              "      <td>...</td>\n",
              "      <td>...</td>\n",
              "      <td>...</td>\n",
              "      <td>...</td>\n",
              "      <td>...</td>\n",
              "    </tr>\n",
              "    <tr>\n",
              "      <th>9995</th>\n",
              "      <td>9996</td>\n",
              "      <td>15606229</td>\n",
              "      <td>Obijiaku</td>\n",
              "      <td>771</td>\n",
              "      <td>France</td>\n",
              "      <td>Male</td>\n",
              "      <td>39</td>\n",
              "      <td>5</td>\n",
              "      <td>0.00</td>\n",
              "      <td>2</td>\n",
              "      <td>1</td>\n",
              "      <td>0</td>\n",
              "      <td>96270.64</td>\n",
              "      <td>0</td>\n",
              "    </tr>\n",
              "    <tr>\n",
              "      <th>9996</th>\n",
              "      <td>9997</td>\n",
              "      <td>15569892</td>\n",
              "      <td>Johnstone</td>\n",
              "      <td>516</td>\n",
              "      <td>France</td>\n",
              "      <td>Male</td>\n",
              "      <td>35</td>\n",
              "      <td>10</td>\n",
              "      <td>57369.61</td>\n",
              "      <td>1</td>\n",
              "      <td>1</td>\n",
              "      <td>1</td>\n",
              "      <td>101699.77</td>\n",
              "      <td>0</td>\n",
              "    </tr>\n",
              "    <tr>\n",
              "      <th>9997</th>\n",
              "      <td>9998</td>\n",
              "      <td>15584532</td>\n",
              "      <td>Liu</td>\n",
              "      <td>709</td>\n",
              "      <td>France</td>\n",
              "      <td>Female</td>\n",
              "      <td>36</td>\n",
              "      <td>7</td>\n",
              "      <td>0.00</td>\n",
              "      <td>1</td>\n",
              "      <td>0</td>\n",
              "      <td>1</td>\n",
              "      <td>42085.58</td>\n",
              "      <td>1</td>\n",
              "    </tr>\n",
              "    <tr>\n",
              "      <th>9998</th>\n",
              "      <td>9999</td>\n",
              "      <td>15682355</td>\n",
              "      <td>Sabbatini</td>\n",
              "      <td>772</td>\n",
              "      <td>Germany</td>\n",
              "      <td>Male</td>\n",
              "      <td>42</td>\n",
              "      <td>3</td>\n",
              "      <td>75075.31</td>\n",
              "      <td>2</td>\n",
              "      <td>1</td>\n",
              "      <td>0</td>\n",
              "      <td>92888.52</td>\n",
              "      <td>1</td>\n",
              "    </tr>\n",
              "    <tr>\n",
              "      <th>9999</th>\n",
              "      <td>10000</td>\n",
              "      <td>15628319</td>\n",
              "      <td>Walker</td>\n",
              "      <td>792</td>\n",
              "      <td>France</td>\n",
              "      <td>Female</td>\n",
              "      <td>28</td>\n",
              "      <td>4</td>\n",
              "      <td>130142.79</td>\n",
              "      <td>1</td>\n",
              "      <td>1</td>\n",
              "      <td>0</td>\n",
              "      <td>38190.78</td>\n",
              "      <td>0</td>\n",
              "    </tr>\n",
              "  </tbody>\n",
              "</table>\n",
              "<p>10000 rows × 14 columns</p>\n",
              "</div>"
            ],
            "text/plain": [
              "      RowNumber  CustomerId    Surname  CreditScore Geography  Gender  Age  \\\n",
              "0             1    15634602   Hargrave          619    France  Female   42   \n",
              "1             2    15647311       Hill          608     Spain  Female   41   \n",
              "2             3    15619304       Onio          502    France  Female   42   \n",
              "3             4    15701354       Boni          699    France  Female   39   \n",
              "4             5    15737888   Mitchell          850     Spain  Female   43   \n",
              "...         ...         ...        ...          ...       ...     ...  ...   \n",
              "9995       9996    15606229   Obijiaku          771    France    Male   39   \n",
              "9996       9997    15569892  Johnstone          516    France    Male   35   \n",
              "9997       9998    15584532        Liu          709    France  Female   36   \n",
              "9998       9999    15682355  Sabbatini          772   Germany    Male   42   \n",
              "9999      10000    15628319     Walker          792    France  Female   28   \n",
              "\n",
              "      Tenure    Balance  NumOfProducts  HasCrCard  IsActiveMember  \\\n",
              "0          2       0.00              1          1               1   \n",
              "1          1   83807.86              1          0               1   \n",
              "2          8  159660.80              3          1               0   \n",
              "3          1       0.00              2          0               0   \n",
              "4          2  125510.82              1          1               1   \n",
              "...      ...        ...            ...        ...             ...   \n",
              "9995       5       0.00              2          1               0   \n",
              "9996      10   57369.61              1          1               1   \n",
              "9997       7       0.00              1          0               1   \n",
              "9998       3   75075.31              2          1               0   \n",
              "9999       4  130142.79              1          1               0   \n",
              "\n",
              "      EstimatedSalary  Exited  \n",
              "0           101348.88       1  \n",
              "1           112542.58       0  \n",
              "2           113931.57       1  \n",
              "3            93826.63       0  \n",
              "4            79084.10       0  \n",
              "...               ...     ...  \n",
              "9995         96270.64       0  \n",
              "9996        101699.77       0  \n",
              "9997         42085.58       1  \n",
              "9998         92888.52       1  \n",
              "9999         38190.78       0  \n",
              "\n",
              "[10000 rows x 14 columns]"
            ]
          },
          "execution_count": 2,
          "metadata": {},
          "output_type": "execute_result"
        }
      ],
      "source": [
        "#df = pd.read_csv('/content/drive/MyDrive/Colab Notebooks/Churn Modeling.csv')\n",
        "df = pd.read_csv('Churn-Modeling.csv')\n",
        "df"
      ]
    },
    {
      "cell_type": "markdown",
      "metadata": {
        "id": "5wnF0kJqSEJX"
      },
      "source": [
        "## 3.1.Xóa 3 cột RowNumber, CustomerId, Surname trong tập dữ liệu"
      ]
    },
    {
      "cell_type": "code",
      "execution_count": 3,
      "metadata": {
        "colab": {
          "base_uri": "https://localhost:8080/"
        },
        "execution": {
          "iopub.execute_input": "2022-08-07T17:19:47.401281Z",
          "iopub.status.busy": "2022-08-07T17:19:47.400612Z",
          "iopub.status.idle": "2022-08-07T17:19:47.420622Z",
          "shell.execute_reply": "2022-08-07T17:19:47.419027Z",
          "shell.execute_reply.started": "2022-08-07T17:19:47.401249Z"
        },
        "id": "Zm1-9BTgSEJY",
        "outputId": "609cdc07-0618-4481-bb02-e74eb9640d7f",
        "trusted": true
      },
      "outputs": [
        {
          "data": {
            "text/plain": [
              "(10000, 11)"
            ]
          },
          "execution_count": 3,
          "metadata": {},
          "output_type": "execute_result"
        }
      ],
      "source": [
        "df.drop(['RowNumber','CustomerId','Surname'],axis=1,inplace = True)\n",
        "df.shape"
      ]
    },
    {
      "cell_type": "markdown",
      "metadata": {
        "id": "9q4JYshaSEJZ"
      },
      "source": [
        "## 3.2.Kiểm tra dữ liệu trống"
      ]
    },
    {
      "cell_type": "code",
      "execution_count": 4,
      "metadata": {
        "colab": {
          "base_uri": "https://localhost:8080/"
        },
        "execution": {
          "iopub.execute_input": "2022-08-07T17:19:47.454836Z",
          "iopub.status.busy": "2022-08-07T17:19:47.454191Z",
          "iopub.status.idle": "2022-08-07T17:19:47.463755Z",
          "shell.execute_reply": "2022-08-07T17:19:47.462403Z",
          "shell.execute_reply.started": "2022-08-07T17:19:47.454797Z"
        },
        "id": "O5mQLH1vSEJZ",
        "outputId": "75037345-b50d-48ac-b40f-71c92a345248",
        "trusted": true
      },
      "outputs": [
        {
          "data": {
            "text/plain": [
              "False"
            ]
          },
          "execution_count": 4,
          "metadata": {},
          "output_type": "execute_result"
        }
      ],
      "source": [
        "df.isnull().values.any()"
      ]
    },
    {
      "cell_type": "code",
      "execution_count": 5,
      "metadata": {
        "colab": {
          "base_uri": "https://localhost:8080/"
        },
        "execution": {
          "iopub.execute_input": "2022-08-07T17:19:47.474099Z",
          "iopub.status.busy": "2022-08-07T17:19:47.4736Z",
          "iopub.status.idle": "2022-08-07T17:19:47.48518Z",
          "shell.execute_reply": "2022-08-07T17:19:47.483761Z",
          "shell.execute_reply.started": "2022-08-07T17:19:47.474063Z"
        },
        "id": "6oWLseeUSEJa",
        "outputId": "68759fc1-b6c5-4e14-e534-6648dc0fd895",
        "trusted": true
      },
      "outputs": [
        {
          "data": {
            "text/plain": [
              "CreditScore          int64\n",
              "Geography           object\n",
              "Gender              object\n",
              "Age                  int64\n",
              "Tenure               int64\n",
              "Balance            float64\n",
              "NumOfProducts        int64\n",
              "HasCrCard            int64\n",
              "IsActiveMember       int64\n",
              "EstimatedSalary    float64\n",
              "Exited               int64\n",
              "dtype: object"
            ]
          },
          "execution_count": 5,
          "metadata": {},
          "output_type": "execute_result"
        }
      ],
      "source": [
        "df.dtypes"
      ]
    },
    {
      "cell_type": "markdown",
      "metadata": {
        "id": "BEcNy9S2SEJb"
      },
      "source": [
        "## 3.3.Kiểm tra outliers"
      ]
    },
    {
      "cell_type": "code",
      "execution_count": 6,
      "metadata": {
        "colab": {
          "base_uri": "https://localhost:8080/"
        },
        "execution": {
          "iopub.execute_input": "2022-08-07T17:19:47.539868Z",
          "iopub.status.busy": "2022-08-07T17:19:47.53908Z",
          "iopub.status.idle": "2022-08-07T17:19:47.594459Z",
          "shell.execute_reply": "2022-08-07T17:19:47.59314Z",
          "shell.execute_reply.started": "2022-08-07T17:19:47.539831Z"
        },
        "id": "fC0cjcexSEJb",
        "outputId": "69cc40b8-c9bb-466d-d360-8aef5b24f218",
        "trusted": true
      },
      "outputs": [
        {
          "data": {
            "text/plain": [
              "['CreditScore',\n",
              " 'Age',\n",
              " 'Tenure',\n",
              " 'Balance',\n",
              " 'NumOfProducts',\n",
              " 'HasCrCard',\n",
              " 'IsActiveMember',\n",
              " 'EstimatedSalary',\n",
              " 'Exited']"
            ]
          },
          "execution_count": 6,
          "metadata": {},
          "output_type": "execute_result"
        }
      ],
      "source": [
        "numeric = df.select_dtypes(exclude='object')\n",
        "cols_to_check = [col for col in numeric.columns if col not in ['y']]\n",
        "cols_to_check"
      ]
    },
    {
      "cell_type": "code",
      "execution_count": 7,
      "metadata": {
        "colab": {
          "base_uri": "https://localhost:8080/",
          "height": 843
        },
        "id": "CRsO4M-05Ftv",
        "outputId": "7393ca98-2dff-43b7-c378-2c7305b0d2dc"
      },
      "outputs": [
        {
          "data": {
            "image/png": "[encoded data removed]",
            "text/plain": [
              "<Figure size 1440x4320 with 9 Axes>"
            ]
          },
          "metadata": {},
          "output_type": "display_data"
        }
      ],
      "source": [
        "#boxplot on numerical features to find outliers\n",
        "plt.figure(figsize=(20,60), facecolor='white')\n",
        "plotnumber =1\n",
        "for numerical_feature in numeric:\n",
        "    ax = plt.subplot(12,3,plotnumber)\n",
        "    sns.boxplot(df[numerical_feature])\n",
        "    plt.xlabel(numerical_feature)\n",
        "    plotnumber+=1\n",
        "plt.show()"
      ]
    },
    {
      "cell_type": "code",
      "execution_count": 8,
      "metadata": {
        "colab": {
          "base_uri": "https://localhost:8080/",
          "height": 423
        },
        "id": "8eqtUh2zuEP1",
        "outputId": "d1a8e7d2-7e14-468d-b6ac-75e9243f7348"
      },
      "outputs": [
        {
          "data": {
            "text/html": [
              "<div>\n",
              "<style scoped>\n",
              "    .dataframe tbody tr th:only-of-type {\n",
              "        vertical-align: middle;\n",
              "    }\n",
              "\n",
              "    .dataframe tbody tr th {\n",
              "        vertical-align: top;\n",
              "    }\n",
              "\n",
              "    .dataframe thead th {\n",
              "        text-align: right;\n",
              "    }\n",
              "</style>\n",
              "<table border=\"1\" class=\"dataframe\">\n",
              "  <thead>\n",
              "    <tr style=\"text-align: right;\">\n",
              "      <th></th>\n",
              "      <th>CreditScore</th>\n",
              "      <th>Geography</th>\n",
              "      <th>Gender</th>\n",
              "      <th>Age</th>\n",
              "      <th>Tenure</th>\n",
              "      <th>Balance</th>\n",
              "      <th>NumOfProducts</th>\n",
              "      <th>HasCrCard</th>\n",
              "      <th>IsActiveMember</th>\n",
              "      <th>EstimatedSalary</th>\n",
              "      <th>Exited</th>\n",
              "    </tr>\n",
              "  </thead>\n",
              "  <tbody>\n",
              "    <tr>\n",
              "      <th>0</th>\n",
              "      <td>619</td>\n",
              "      <td>France</td>\n",
              "      <td>Female</td>\n",
              "      <td>42</td>\n",
              "      <td>2</td>\n",
              "      <td>0.00</td>\n",
              "      <td>1</td>\n",
              "      <td>1</td>\n",
              "      <td>1</td>\n",
              "      <td>101348.88</td>\n",
              "      <td>1</td>\n",
              "    </tr>\n",
              "    <tr>\n",
              "      <th>1</th>\n",
              "      <td>608</td>\n",
              "      <td>Spain</td>\n",
              "      <td>Female</td>\n",
              "      <td>41</td>\n",
              "      <td>1</td>\n",
              "      <td>83807.86</td>\n",
              "      <td>1</td>\n",
              "      <td>0</td>\n",
              "      <td>1</td>\n",
              "      <td>112542.58</td>\n",
              "      <td>0</td>\n",
              "    </tr>\n",
              "    <tr>\n",
              "      <th>2</th>\n",
              "      <td>502</td>\n",
              "      <td>France</td>\n",
              "      <td>Female</td>\n",
              "      <td>42</td>\n",
              "      <td>8</td>\n",
              "      <td>159660.80</td>\n",
              "      <td>3</td>\n",
              "      <td>1</td>\n",
              "      <td>0</td>\n",
              "      <td>113931.57</td>\n",
              "      <td>1</td>\n",
              "    </tr>\n",
              "    <tr>\n",
              "      <th>3</th>\n",
              "      <td>699</td>\n",
              "      <td>France</td>\n",
              "      <td>Female</td>\n",
              "      <td>39</td>\n",
              "      <td>1</td>\n",
              "      <td>0.00</td>\n",
              "      <td>2</td>\n",
              "      <td>0</td>\n",
              "      <td>0</td>\n",
              "      <td>93826.63</td>\n",
              "      <td>0</td>\n",
              "    </tr>\n",
              "    <tr>\n",
              "      <th>4</th>\n",
              "      <td>850</td>\n",
              "      <td>Spain</td>\n",
              "      <td>Female</td>\n",
              "      <td>43</td>\n",
              "      <td>2</td>\n",
              "      <td>125510.82</td>\n",
              "      <td>1</td>\n",
              "      <td>1</td>\n",
              "      <td>1</td>\n",
              "      <td>79084.10</td>\n",
              "      <td>0</td>\n",
              "    </tr>\n",
              "    <tr>\n",
              "      <th>...</th>\n",
              "      <td>...</td>\n",
              "      <td>...</td>\n",
              "      <td>...</td>\n",
              "      <td>...</td>\n",
              "      <td>...</td>\n",
              "      <td>...</td>\n",
              "      <td>...</td>\n",
              "      <td>...</td>\n",
              "      <td>...</td>\n",
              "      <td>...</td>\n",
              "      <td>...</td>\n",
              "    </tr>\n",
              "    <tr>\n",
              "      <th>9995</th>\n",
              "      <td>771</td>\n",
              "      <td>France</td>\n",
              "      <td>Male</td>\n",
              "      <td>39</td>\n",
              "      <td>5</td>\n",
              "      <td>0.00</td>\n",
              "      <td>2</td>\n",
              "      <td>1</td>\n",
              "      <td>0</td>\n",
              "      <td>96270.64</td>\n",
              "      <td>0</td>\n",
              "    </tr>\n",
              "    <tr>\n",
              "      <th>9996</th>\n",
              "      <td>516</td>\n",
              "      <td>France</td>\n",
              "      <td>Male</td>\n",
              "      <td>35</td>\n",
              "      <td>10</td>\n",
              "      <td>57369.61</td>\n",
              "      <td>1</td>\n",
              "      <td>1</td>\n",
              "      <td>1</td>\n",
              "      <td>101699.77</td>\n",
              "      <td>0</td>\n",
              "    </tr>\n",
              "    <tr>\n",
              "      <th>9997</th>\n",
              "      <td>709</td>\n",
              "      <td>France</td>\n",
              "      <td>Female</td>\n",
              "      <td>36</td>\n",
              "      <td>7</td>\n",
              "      <td>0.00</td>\n",
              "      <td>1</td>\n",
              "      <td>0</td>\n",
              "      <td>1</td>\n",
              "      <td>42085.58</td>\n",
              "      <td>1</td>\n",
              "    </tr>\n",
              "    <tr>\n",
              "      <th>9998</th>\n",
              "      <td>772</td>\n",
              "      <td>Germany</td>\n",
              "      <td>Male</td>\n",
              "      <td>42</td>\n",
              "      <td>3</td>\n",
              "      <td>75075.31</td>\n",
              "      <td>2</td>\n",
              "      <td>1</td>\n",
              "      <td>0</td>\n",
              "      <td>92888.52</td>\n",
              "      <td>1</td>\n",
              "    </tr>\n",
              "    <tr>\n",
              "      <th>9999</th>\n",
              "      <td>792</td>\n",
              "      <td>France</td>\n",
              "      <td>Female</td>\n",
              "      <td>28</td>\n",
              "      <td>4</td>\n",
              "      <td>130142.79</td>\n",
              "      <td>1</td>\n",
              "      <td>1</td>\n",
              "      <td>0</td>\n",
              "      <td>38190.78</td>\n",
              "      <td>0</td>\n",
              "    </tr>\n",
              "  </tbody>\n",
              "</table>\n",
              "<p>9955 rows × 11 columns</p>\n",
              "</div>"
            ],
            "text/plain": [
              "      CreditScore Geography  Gender  Age  Tenure    Balance  NumOfProducts  \\\n",
              "0             619    France  Female   42       2       0.00              1   \n",
              "1             608     Spain  Female   41       1   83807.86              1   \n",
              "2             502    France  Female   42       8  159660.80              3   \n",
              "3             699    France  Female   39       1       0.00              2   \n",
              "4             850     Spain  Female   43       2  125510.82              1   \n",
              "...           ...       ...     ...  ...     ...        ...            ...   \n",
              "9995          771    France    Male   39       5       0.00              2   \n",
              "9996          516    France    Male   35      10   57369.61              1   \n",
              "9997          709    France  Female   36       7       0.00              1   \n",
              "9998          772   Germany    Male   42       3   75075.31              2   \n",
              "9999          792    France  Female   28       4  130142.79              1   \n",
              "\n",
              "      HasCrCard  IsActiveMember  EstimatedSalary  Exited  \n",
              "0             1               1        101348.88       1  \n",
              "1             0               1        112542.58       0  \n",
              "2             1               0        113931.57       1  \n",
              "3             0               0         93826.63       0  \n",
              "4             1               1         79084.10       0  \n",
              "...         ...             ...              ...     ...  \n",
              "9995          1               0         96270.64       0  \n",
              "9996          1               1        101699.77       0  \n",
              "9997          0               1         42085.58       1  \n",
              "9998          1               0         92888.52       1  \n",
              "9999          1               0         38190.78       0  \n",
              "\n",
              "[9955 rows x 11 columns]"
            ]
          },
          "execution_count": 8,
          "metadata": {},
          "output_type": "execute_result"
        }
      ],
      "source": [
        "#Xóa giá trị Age >= 75 tuổi\n",
        "df = df[df['Age'] <= 75]\n",
        "df"
      ]
    },
    {
      "cell_type": "markdown",
      "metadata": {
        "id": "c3-cy7yRSEJf"
      },
      "source": [
        "## 3.4.Sử dụng One Hot Coding chuyển đổi dữ liệu cho 2 cột Geography và Gender"
      ]
    },
    {
      "cell_type": "code",
      "execution_count": 9,
      "metadata": {
        "colab": {
          "base_uri": "https://localhost:8080/",
          "height": 270
        },
        "execution": {
          "iopub.execute_input": "2022-08-07T17:19:48.743794Z",
          "iopub.status.busy": "2022-08-07T17:19:48.742914Z",
          "iopub.status.idle": "2022-08-07T17:19:48.770608Z",
          "shell.execute_reply": "2022-08-07T17:19:48.769808Z",
          "shell.execute_reply.started": "2022-08-07T17:19:48.743742Z"
        },
        "id": "adTFmuNMSEJg",
        "outputId": "6d0d8707-1332-432f-d70a-59742448215e",
        "trusted": true
      },
      "outputs": [
        {
          "data": {
            "text/html": [
              "<div>\n",
              "<style scoped>\n",
              "    .dataframe tbody tr th:only-of-type {\n",
              "        vertical-align: middle;\n",
              "    }\n",
              "\n",
              "    .dataframe tbody tr th {\n",
              "        vertical-align: top;\n",
              "    }\n",
              "\n",
              "    .dataframe thead th {\n",
              "        text-align: right;\n",
              "    }\n",
              "</style>\n",
              "<table border=\"1\" class=\"dataframe\">\n",
              "  <thead>\n",
              "    <tr style=\"text-align: right;\">\n",
              "      <th></th>\n",
              "      <th>CreditScore</th>\n",
              "      <th>Age</th>\n",
              "      <th>Tenure</th>\n",
              "      <th>Balance</th>\n",
              "      <th>NumOfProducts</th>\n",
              "      <th>HasCrCard</th>\n",
              "      <th>IsActiveMember</th>\n",
              "      <th>EstimatedSalary</th>\n",
              "      <th>Exited</th>\n",
              "      <th>Geography_France</th>\n",
              "      <th>Geography_Germany</th>\n",
              "      <th>Geography_Spain</th>\n",
              "      <th>Gender_Female</th>\n",
              "      <th>Gender_Male</th>\n",
              "    </tr>\n",
              "  </thead>\n",
              "  <tbody>\n",
              "    <tr>\n",
              "      <th>0</th>\n",
              "      <td>619</td>\n",
              "      <td>42</td>\n",
              "      <td>2</td>\n",
              "      <td>0.00</td>\n",
              "      <td>1</td>\n",
              "      <td>1</td>\n",
              "      <td>1</td>\n",
              "      <td>101348.88</td>\n",
              "      <td>1</td>\n",
              "      <td>1</td>\n",
              "      <td>0</td>\n",
              "      <td>0</td>\n",
              "      <td>1</td>\n",
              "      <td>0</td>\n",
              "    </tr>\n",
              "    <tr>\n",
              "      <th>1</th>\n",
              "      <td>608</td>\n",
              "      <td>41</td>\n",
              "      <td>1</td>\n",
              "      <td>83807.86</td>\n",
              "      <td>1</td>\n",
              "      <td>0</td>\n",
              "      <td>1</td>\n",
              "      <td>112542.58</td>\n",
              "      <td>0</td>\n",
              "      <td>0</td>\n",
              "      <td>0</td>\n",
              "      <td>1</td>\n",
              "      <td>1</td>\n",
              "      <td>0</td>\n",
              "    </tr>\n",
              "    <tr>\n",
              "      <th>2</th>\n",
              "      <td>502</td>\n",
              "      <td>42</td>\n",
              "      <td>8</td>\n",
              "      <td>159660.80</td>\n",
              "      <td>3</td>\n",
              "      <td>1</td>\n",
              "      <td>0</td>\n",
              "      <td>113931.57</td>\n",
              "      <td>1</td>\n",
              "      <td>1</td>\n",
              "      <td>0</td>\n",
              "      <td>0</td>\n",
              "      <td>1</td>\n",
              "      <td>0</td>\n",
              "    </tr>\n",
              "    <tr>\n",
              "      <th>3</th>\n",
              "      <td>699</td>\n",
              "      <td>39</td>\n",
              "      <td>1</td>\n",
              "      <td>0.00</td>\n",
              "      <td>2</td>\n",
              "      <td>0</td>\n",
              "      <td>0</td>\n",
              "      <td>93826.63</td>\n",
              "      <td>0</td>\n",
              "      <td>1</td>\n",
              "      <td>0</td>\n",
              "      <td>0</td>\n",
              "      <td>1</td>\n",
              "      <td>0</td>\n",
              "    </tr>\n",
              "    <tr>\n",
              "      <th>4</th>\n",
              "      <td>850</td>\n",
              "      <td>43</td>\n",
              "      <td>2</td>\n",
              "      <td>125510.82</td>\n",
              "      <td>1</td>\n",
              "      <td>1</td>\n",
              "      <td>1</td>\n",
              "      <td>79084.10</td>\n",
              "      <td>0</td>\n",
              "      <td>0</td>\n",
              "      <td>0</td>\n",
              "      <td>1</td>\n",
              "      <td>1</td>\n",
              "      <td>0</td>\n",
              "    </tr>\n",
              "  </tbody>\n",
              "</table>\n",
              "</div>"
            ],
            "text/plain": [
              "   CreditScore  Age  Tenure    Balance  NumOfProducts  HasCrCard  \\\n",
              "0          619   42       2       0.00              1          1   \n",
              "1          608   41       1   83807.86              1          0   \n",
              "2          502   42       8  159660.80              3          1   \n",
              "3          699   39       1       0.00              2          0   \n",
              "4          850   43       2  125510.82              1          1   \n",
              "\n",
              "   IsActiveMember  EstimatedSalary  Exited  Geography_France  \\\n",
              "0               1        101348.88       1                 1   \n",
              "1               1        112542.58       0                 0   \n",
              "2               0        113931.57       1                 1   \n",
              "3               0         93826.63       0                 1   \n",
              "4               1         79084.10       0                 0   \n",
              "\n",
              "   Geography_Germany  Geography_Spain  Gender_Female  Gender_Male  \n",
              "0                  0                0              1            0  \n",
              "1                  0                1              1            0  \n",
              "2                  0                0              1            0  \n",
              "3                  0                0              1            0  \n",
              "4                  0                1              1            0  "
            ]
          },
          "execution_count": 9,
          "metadata": {},
          "output_type": "execute_result"
        }
      ],
      "source": [
        "df1 = pd.get_dummies(data = df,columns=['Geography','Gender'])\n",
        "df1.head()"
      ]
    },
    {
      "cell_type": "markdown",
      "metadata": {
        "id": "-aBEkuDxw1QJ"
      },
      "source": [
        "# 4.Visualization"
      ]
    },
    {
      "cell_type": "code",
      "execution_count": 10,
      "metadata": {
        "id": "OO5oxW969LRr"
      },
      "outputs": [],
      "source": [
        "#Màu của plot\n",
        "colors = ['#2BAE66','#FCF6F5']"
      ]
    },
    {
      "cell_type": "markdown",
      "metadata": {
        "id": "FQoNk5sASEJb"
      },
      "source": [
        "## 4.1.Vẽ biểu đồ Plot cho mối quan hệ giữa 2 cột Age và Exit Status"
      ]
    },
    {
      "cell_type": "code",
      "execution_count": 11,
      "metadata": {
        "colab": {
          "base_uri": "https://localhost:8080/",
          "height": 515
        },
        "execution": {
          "iopub.execute_input": "2022-08-07T17:19:47.614605Z",
          "iopub.status.busy": "2022-08-07T17:19:47.61396Z",
          "iopub.status.idle": "2022-08-07T17:19:47.927669Z",
          "shell.execute_reply": "2022-08-07T17:19:47.926041Z",
          "shell.execute_reply.started": "2022-08-07T17:19:47.614545Z"
        },
        "id": "vo7VSio8SEJc",
        "outputId": "e913abce-76ae-4a75-a0f7-12c8dae194aa",
        "trusted": true
      },
      "outputs": [
        {
          "name": "stderr",
          "output_type": "stream",
          "text": [
            "C:\\Users\\kakac\\AppData\\Local\\Temp\\ipykernel_2008\\3463370780.py:2: SettingWithCopyWarning: \n",
            "A value is trying to be set on a copy of a slice from a DataFrame.\n",
            "Try using .loc[row_indexer,col_indexer] = value instead\n",
            "\n",
            "See the caveats in the documentation: https://pandas.pydata.org/pandas-docs/stable/user_guide/indexing.html#returning-a-view-versus-a-copy\n",
            "  df['Age_Group'] = [int(i/5) for i in df1['Age']]\n",
            "posx and posy should be finite values\n",
            "posx and posy should be finite values\n"
          ]
        },
        {
          "data": {
            "image/png": "[encoded data removed]",
            "text/plain": [
              "<Figure size 1080x360 with 1 Axes>"
            ]
          },
          "metadata": {
            "needs_background": "light"
          },
          "output_type": "display_data"
        }
      ],
      "source": [
        "#Chia độ tuổi theo từng nhóm (nhóm tuổi = tuổi / 5)\n",
        "df['Age_Group'] = [int(i/5) for i in df1['Age']]\n",
        "\n",
        "plt.figure(figsize = (15,5))\n",
        "ax = sns.countplot('Age_Group', data = df, hue = 'Exited', palette = colors,edgecolor = 'black')\n",
        "for rect in ax.patches:\n",
        "    ax.text(rect.get_x() + rect.get_width() / 2, rect.get_height(), rect.get_height(), horizontalalignment='center', fontsize = 11)\n",
        "plt.legend(['Not Exited', 'Exited'], loc = 'upper right')\n",
        "plt.title('Age');"
      ]
    },
    {
      "cell_type": "markdown",
      "metadata": {
        "id": "hCzausJ6SEJc"
      },
      "source": [
        "## 4.2.Biểu đồ Plot hiển thị quan hệ giữa 2 cột Balance và Exit Status"
      ]
    },
    {
      "cell_type": "code",
      "execution_count": 12,
      "metadata": {
        "colab": {
          "base_uri": "https://localhost:8080/",
          "height": 515
        },
        "execution": {
          "iopub.execute_input": "2022-08-07T17:19:47.930609Z",
          "iopub.status.busy": "2022-08-07T17:19:47.930025Z",
          "iopub.status.idle": "2022-08-07T17:19:48.216539Z",
          "shell.execute_reply": "2022-08-07T17:19:48.215331Z",
          "shell.execute_reply.started": "2022-08-07T17:19:47.93057Z"
        },
        "id": "W0RFapfRSEJd",
        "outputId": "e30018e7-43c7-4228-bc67-d87a3bd74d74",
        "trusted": true
      },
      "outputs": [
        {
          "name": "stderr",
          "output_type": "stream",
          "text": [
            "C:\\Users\\kakac\\AppData\\Local\\Temp\\ipykernel_2008\\4276216916.py:2: SettingWithCopyWarning: \n",
            "A value is trying to be set on a copy of a slice from a DataFrame.\n",
            "Try using .loc[row_indexer,col_indexer] = value instead\n",
            "\n",
            "See the caveats in the documentation: https://pandas.pydata.org/pandas-docs/stable/user_guide/indexing.html#returning-a-view-versus-a-copy\n",
            "  df['Balance_Group'] = [int(i/20000) for i in df1['Balance']]\n",
            "posx and posy should be finite values\n",
            "posx and posy should be finite values\n"
          ]
        },
        {
          "data": {
            "image/png": "[encoded data removed]",
            "text/plain": [
              "<Figure size 1080x360 with 1 Axes>"
            ]
          },
          "metadata": {
            "needs_background": "light"
          },
          "output_type": "display_data"
        }
      ],
      "source": [
        "#Chia balance theo từng nhóm (nhóm tuổi = tuổi / 20000)\n",
        "df['Balance_Group'] = [int(i/20000) for i in df1['Balance']]\n",
        "\n",
        "plt.figure(figsize = (15,5))\n",
        "ax = sns.countplot('Balance_Group', data = df, hue = 'Exited', palette = colors,edgecolor = 'black')\n",
        "for rect in ax.patches:\n",
        "    ax.text(rect.get_x() + rect.get_width() / 2, rect.get_height(), rect.get_height(), horizontalalignment='center', fontsize = 11)\n",
        "plt.legend(['Not Exited', 'Exited'], loc = 'upper right')\n",
        "plt.title('Balance');"
      ]
    },
    {
      "cell_type": "markdown",
      "metadata": {
        "id": "kywvYNIwBStJ"
      },
      "source": [
        "## 4.3.Biểu đồ Plot hiển thị quan hệ giữa 2 cột Salary và Exit Status"
      ]
    },
    {
      "cell_type": "code",
      "execution_count": 13,
      "metadata": {
        "colab": {
          "base_uri": "https://localhost:8080/",
          "height": 461
        },
        "execution": {
          "iopub.execute_input": "2022-08-07T17:19:47.930609Z",
          "iopub.status.busy": "2022-08-07T17:19:47.930025Z",
          "iopub.status.idle": "2022-08-07T17:19:48.216539Z",
          "shell.execute_reply": "2022-08-07T17:19:48.215331Z",
          "shell.execute_reply.started": "2022-08-07T17:19:47.93057Z"
        },
        "id": "KnSgH8frBStK",
        "outputId": "71e87722-b8c1-4317-a015-b111ae968d7b",
        "trusted": true
      },
      "outputs": [
        {
          "name": "stderr",
          "output_type": "stream",
          "text": [
            "C:\\Users\\kakac\\AppData\\Local\\Temp\\ipykernel_2008\\560600149.py:2: SettingWithCopyWarning: \n",
            "A value is trying to be set on a copy of a slice from a DataFrame.\n",
            "Try using .loc[row_indexer,col_indexer] = value instead\n",
            "\n",
            "See the caveats in the documentation: https://pandas.pydata.org/pandas-docs/stable/user_guide/indexing.html#returning-a-view-versus-a-copy\n",
            "  df['EstimatedSalary_Group'] = [int(i/20000) for i in df1['EstimatedSalary']]\n"
          ]
        },
        {
          "data": {
            "image/png": "[encoded data removed]",
            "text/plain": [
              "<Figure size 1080x360 with 1 Axes>"
            ]
          },
          "metadata": {
            "needs_background": "light"
          },
          "output_type": "display_data"
        }
      ],
      "source": [
        "#Chia balance theo từng nhóm (nhóm tuổi = tuổi / 20000)\n",
        "df['EstimatedSalary_Group'] = [int(i/20000) for i in df1['EstimatedSalary']]\n",
        "\n",
        "plt.figure(figsize = (15,5))\n",
        "ax = sns.countplot('EstimatedSalary_Group', data = df, hue = 'Exited', palette = colors,edgecolor = 'black')\n",
        "for rect in ax.patches:\n",
        "    ax.text(rect.get_x() + rect.get_width() / 2, rect.get_height(), rect.get_height(), horizontalalignment='center', fontsize = 11)\n",
        "plt.legend(['Not Exited', 'Exited'], loc = 'upper right')\n",
        "plt.title('Estimated Salary');"
      ]
    },
    {
      "cell_type": "markdown",
      "metadata": {
        "id": "_X9LmOiUSEJf"
      },
      "source": [
        "## 4.4.Biểu đồ Plot cho mối quan hệ giữa 2 cột Geography và Exit Status\n"
      ]
    },
    {
      "cell_type": "code",
      "execution_count": 14,
      "metadata": {
        "colab": {
          "base_uri": "https://localhost:8080/",
          "height": 351
        },
        "id": "DjRFOKAl9B21",
        "outputId": "1a6afef7-9bd8-4e27-e776-05060ecc4804"
      },
      "outputs": [
        {
          "data": {
            "image/png": "[encoded data removed]",
            "text/plain": [
              "<Figure size 1440x360 with 3 Axes>"
            ]
          },
          "metadata": {
            "needs_background": "light"
          },
          "output_type": "display_data"
        }
      ],
      "source": [
        "fig = plt.subplots(nrows = 1, ncols = 3, figsize = (20,5))\n",
        "\n",
        "plt.subplot(1,3,1)\n",
        "ax = sns.countplot('Geography_France',data = df1, hue = 'Exited', palette = colors,edgecolor = 'black')\n",
        "for rect in ax.patches:\n",
        "    ax.text(rect.get_x() + rect.get_width() / 2, rect.get_height() + 2, rect.get_height(), horizontalalignment='center', fontsize = 11)\n",
        "ax.set_xticklabels(df1['Geography_France'][j] for j in sorted(df1['Geography_France'].unique()))\n",
        "plt.legend(['Not Exited', 'Exited'])\n",
        "plt.title('Geography France');\n",
        "\n",
        "plt.subplot(1,3,2)\n",
        "ax = sns.countplot('Geography_Germany',data = df1, hue = 'Exited', palette = colors,edgecolor = 'black')\n",
        "for rect in ax.patches:\n",
        "    ax.text(rect.get_x() + rect.get_width() / 2, rect.get_height() + 2, rect.get_height(), horizontalalignment='center', fontsize = 11)\n",
        "ax.set_xticklabels(df1['Geography_Germany'][j] for j in sorted(df1['Geography_Germany'].unique()))\n",
        "plt.legend(['Not Exited', 'Exited'])\n",
        "plt.title('Geography Germany');\n",
        "\n",
        "plt.subplot(1,3,3)\n",
        "ax = sns.countplot('Geography_Spain',data = df1, hue = 'Exited', palette = colors,edgecolor = 'black')\n",
        "for rect in ax.patches:\n",
        "    ax.text(rect.get_x() + rect.get_width() / 2, rect.get_height() + 2, rect.get_height(), horizontalalignment='center', fontsize = 11)\n",
        "ax.set_xticklabels(df1['Geography_Spain'][j] for j in sorted(df1['Geography_Spain'].unique()))\n",
        "plt.legend(['Not Exited', 'Exited'])\n",
        "plt.title('Geography Spain');"
      ]
    },
    {
      "cell_type": "markdown",
      "metadata": {
        "id": "B2uLNB272TKA"
      },
      "source": [
        "## 4.5.Biểu đồ Plot cho mối quan hệ giữa 2 cột HasCrCard và Exit Status\n"
      ]
    },
    {
      "cell_type": "code",
      "execution_count": 15,
      "metadata": {
        "colab": {
          "base_uri": "https://localhost:8080/",
          "height": 350
        },
        "id": "yHqPnEtw2Z4d",
        "outputId": "a8db67d3-4be7-44d1-892d-25441bba5efa"
      },
      "outputs": [
        {
          "data": {
            "image/png": "[encoded data removed]",
            "text/plain": [
              "<Figure size 720x360 with 1 Axes>"
            ]
          },
          "metadata": {
            "needs_background": "light"
          },
          "output_type": "display_data"
        }
      ],
      "source": [
        "fig = plt.subplots(nrows = 1, ncols = 1, figsize = (10,5))\n",
        "\n",
        "plt.subplot(1,1,1)\n",
        "ax = sns.countplot('HasCrCard',data = df1, hue = 'Exited', palette = colors,edgecolor = 'black')\n",
        "for rect in ax.patches:\n",
        "    ax.text(rect.get_x() + rect.get_width() / 2, rect.get_height() + 2, rect.get_height(), horizontalalignment='center', fontsize = 11)\n",
        "ax.set_xticklabels(df1['HasCrCard'][j] for j in sorted(df1['HasCrCard'].unique()))\n",
        "plt.legend(['Not Exited', 'Exited'])\n",
        "plt.title('Has Credit Card');"
      ]
    },
    {
      "cell_type": "markdown",
      "metadata": {
        "id": "sQY17okPSEJg"
      },
      "source": [
        "#### **Sử dụng MinMaxScaler để chuyển đổi dữ liệu cho 4 cột CreditScore, EstimatedSalary, Balance, Age**"
      ]
    },
    {
      "cell_type": "code",
      "execution_count": 16,
      "metadata": {
        "execution": {
          "iopub.execute_input": "2022-08-07T17:19:48.773426Z",
          "iopub.status.busy": "2022-08-07T17:19:48.772325Z",
          "iopub.status.idle": "2022-08-07T17:19:50.038817Z",
          "shell.execute_reply": "2022-08-07T17:19:50.037124Z",
          "shell.execute_reply.started": "2022-08-07T17:19:48.773387Z"
        },
        "id": "XMRQEc7mSEJg",
        "trusted": true
      },
      "outputs": [],
      "source": [
        "from sklearn.preprocessing import MinMaxScaler\n",
        "scaler = MinMaxScaler()\n",
        "df1[['CreditScore','EstimatedSalary',\n",
        "     'Balance','Age']] = scaler.fit_transform(\n",
        "df1[['CreditScore','EstimatedSalary',\n",
        "     'Balance','Age']])"
      ]
    },
    {
      "cell_type": "markdown",
      "metadata": {
        "id": "svR6SxOnSEJg"
      },
      "source": [
        "#### **Tách dữ liệu vào X,Y sử dụng train_test_split**"
      ]
    },
    {
      "cell_type": "code",
      "execution_count": 17,
      "metadata": {
        "execution": {
          "iopub.execute_input": "2022-08-07T17:19:50.041596Z",
          "iopub.status.busy": "2022-08-07T17:19:50.040935Z",
          "iopub.status.idle": "2022-08-07T17:19:50.048598Z",
          "shell.execute_reply": "2022-08-07T17:19:50.04755Z",
          "shell.execute_reply.started": "2022-08-07T17:19:50.041546Z"
        },
        "id": "QvRVdVTJSEJg",
        "trusted": true
      },
      "outputs": [],
      "source": [
        "X = df1.drop('Exited',axis = 1)\n",
        "y = df1['Exited']"
      ]
    },
    {
      "cell_type": "code",
      "execution_count": 18,
      "metadata": {
        "execution": {
          "iopub.execute_input": "2022-08-07T17:19:50.052407Z",
          "iopub.status.busy": "2022-08-07T17:19:50.051753Z",
          "iopub.status.idle": "2022-08-07T17:19:50.13688Z",
          "shell.execute_reply": "2022-08-07T17:19:50.135495Z",
          "shell.execute_reply.started": "2022-08-07T17:19:50.05236Z"
        },
        "id": "ff9itgkySEJg",
        "trusted": true
      },
      "outputs": [],
      "source": [
        "from sklearn.model_selection import train_test_split\n",
        "X_train,X_test,y_train,y_test = train_test_split(X,y,test_size=0.2)"
      ]
    },
    {
      "cell_type": "markdown",
      "metadata": {
        "id": "YXjPbfOFSEJh"
      },
      "source": [
        "#### **Import Tensorflow, keras và Format cho mô hình**"
      ]
    },
    {
      "cell_type": "code",
      "execution_count": 19,
      "metadata": {
        "execution": {
          "iopub.execute_input": "2022-08-07T17:19:50.139317Z",
          "iopub.status.busy": "2022-08-07T17:19:50.13892Z",
          "iopub.status.idle": "2022-08-07T17:19:57.856488Z",
          "shell.execute_reply": "2022-08-07T17:19:57.855185Z",
          "shell.execute_reply.started": "2022-08-07T17:19:50.139272Z"
        },
        "id": "eOD-IWd0SEJh",
        "trusted": true
      },
      "outputs": [],
      "source": [
        "import tensorflow as tf\n",
        "from tensorflow import keras\n",
        "\n",
        "model = keras.Sequential([\n",
        "    keras.layers.Dense(32,input_shape = (13,),activation='relu'),\n",
        "     keras.layers.Dense(16,activation='relu'),\n",
        "     keras.layers.Dense(1,activation='sigmoid')\n",
        "])\n",
        "model.compile(optimizer='adam',loss = 'binary_crossentropy',metrics=['accuracy'])"
      ]
    },
    {
      "cell_type": "markdown",
      "metadata": {
        "id": "dyiVsiX8SEJh"
      },
      "source": [
        "#### **Train**"
      ]
    },
    {
      "cell_type": "code",
      "execution_count": 20,
      "metadata": {
        "colab": {
          "base_uri": "https://localhost:8080/"
        },
        "execution": {
          "iopub.execute_input": "2022-08-07T17:19:57.858142Z",
          "iopub.status.busy": "2022-08-07T17:19:57.857799Z",
          "iopub.status.idle": "2022-08-07T17:20:21.411408Z",
          "shell.execute_reply": "2022-08-07T17:20:21.410379Z",
          "shell.execute_reply.started": "2022-08-07T17:19:57.858111Z"
        },
        "id": "MlkJ_MwMSEJh",
        "outputId": "abf2188c-0834-4bd8-b9e8-62a728c2813d",
        "trusted": true
      },
      "outputs": [
        {
          "name": "stdout",
          "output_type": "stream",
          "text": [
            "Epoch 1/50\n",
            "249/249 [==============================] - 2s 2ms/step - loss: 0.5381 - accuracy: 0.7554\n",
            "Epoch 2/50\n",
            "249/249 [==============================] - 1s 2ms/step - loss: 0.4732 - accuracy: 0.7963\n",
            "Epoch 3/50\n",
            "249/249 [==============================] - 0s 2ms/step - loss: 0.4552 - accuracy: 0.8010\n",
            "Epoch 4/50\n",
            "249/249 [==============================] - 1s 3ms/step - loss: 0.4374 - accuracy: 0.8106\n",
            "Epoch 5/50\n",
            "249/249 [==============================] - 1s 4ms/step - loss: 0.4237 - accuracy: 0.8149\n",
            "Epoch 6/50\n",
            "249/249 [==============================] - 1s 3ms/step - loss: 0.4112 - accuracy: 0.8206\n",
            "Epoch 7/50\n",
            "249/249 [==============================] - 1s 3ms/step - loss: 0.3990 - accuracy: 0.8245\n",
            "Epoch 8/50\n",
            "249/249 [==============================] - 0s 2ms/step - loss: 0.3862 - accuracy: 0.8316\n",
            "Epoch 9/50\n",
            "249/249 [==============================] - 1s 3ms/step - loss: 0.3800 - accuracy: 0.8332\n",
            "Epoch 10/50\n",
            "249/249 [==============================] - 1s 4ms/step - loss: 0.3692 - accuracy: 0.8403\n",
            "Epoch 11/50\n",
            "249/249 [==============================] - 1s 3ms/step - loss: 0.3653 - accuracy: 0.8447\n",
            "Epoch 12/50\n",
            "249/249 [==============================] - 1s 2ms/step - loss: 0.3622 - accuracy: 0.8473\n",
            "Epoch 13/50\n",
            "249/249 [==============================] - 1s 2ms/step - loss: 0.3596 - accuracy: 0.8505\n",
            "Epoch 14/50\n",
            "249/249 [==============================] - 1s 2ms/step - loss: 0.3590 - accuracy: 0.8472\n",
            "Epoch 15/50\n",
            "249/249 [==============================] - 1s 2ms/step - loss: 0.3555 - accuracy: 0.8523\n",
            "Epoch 16/50\n",
            "249/249 [==============================] - 1s 3ms/step - loss: 0.3527 - accuracy: 0.8512\n",
            "Epoch 17/50\n",
            "249/249 [==============================] - 0s 2ms/step - loss: 0.3522 - accuracy: 0.8516\n",
            "Epoch 18/50\n",
            "249/249 [==============================] - 0s 2ms/step - loss: 0.3516 - accuracy: 0.8515\n",
            "Epoch 19/50\n",
            "249/249 [==============================] - 1s 3ms/step - loss: 0.3511 - accuracy: 0.8522\n",
            "Epoch 20/50\n",
            "249/249 [==============================] - 1s 4ms/step - loss: 0.3482 - accuracy: 0.8548\n",
            "Epoch 21/50\n",
            "249/249 [==============================] - 1s 3ms/step - loss: 0.3487 - accuracy: 0.8541\n",
            "Epoch 22/50\n",
            "249/249 [==============================] - 1s 3ms/step - loss: 0.3478 - accuracy: 0.8526\n",
            "Epoch 23/50\n",
            "249/249 [==============================] - 1s 3ms/step - loss: 0.3470 - accuracy: 0.8570\n",
            "Epoch 24/50\n",
            "249/249 [==============================] - 1s 3ms/step - loss: 0.3460 - accuracy: 0.8564\n",
            "Epoch 25/50\n",
            "249/249 [==============================] - 1s 3ms/step - loss: 0.3446 - accuracy: 0.8553\n",
            "Epoch 26/50\n",
            "249/249 [==============================] - 1s 3ms/step - loss: 0.3445 - accuracy: 0.8567\n",
            "Epoch 27/50\n",
            "249/249 [==============================] - 1s 2ms/step - loss: 0.3441 - accuracy: 0.8577\n",
            "Epoch 28/50\n",
            "249/249 [==============================] - 1s 3ms/step - loss: 0.3438 - accuracy: 0.8567\n",
            "Epoch 29/50\n",
            "249/249 [==============================] - 0s 2ms/step - loss: 0.3430 - accuracy: 0.8574\n",
            "Epoch 30/50\n",
            "249/249 [==============================] - 1s 2ms/step - loss: 0.3421 - accuracy: 0.8577\n",
            "Epoch 31/50\n",
            "249/249 [==============================] - 1s 2ms/step - loss: 0.3417 - accuracy: 0.8580\n",
            "Epoch 32/50\n",
            "249/249 [==============================] - 1s 3ms/step - loss: 0.3407 - accuracy: 0.8585\n",
            "Epoch 33/50\n",
            "249/249 [==============================] - 1s 3ms/step - loss: 0.3406 - accuracy: 0.8576\n",
            "Epoch 34/50\n",
            "249/249 [==============================] - 1s 3ms/step - loss: 0.3407 - accuracy: 0.8574\n",
            "Epoch 35/50\n",
            "249/249 [==============================] - 1s 2ms/step - loss: 0.3405 - accuracy: 0.8581\n",
            "Epoch 36/50\n",
            "249/249 [==============================] - 1s 3ms/step - loss: 0.3402 - accuracy: 0.8604\n",
            "Epoch 37/50\n",
            "249/249 [==============================] - 1s 2ms/step - loss: 0.3393 - accuracy: 0.8605\n",
            "Epoch 38/50\n",
            "249/249 [==============================] - 1s 4ms/step - loss: 0.3392 - accuracy: 0.8625\n",
            "Epoch 39/50\n",
            "249/249 [==============================] - 1s 3ms/step - loss: 0.3386 - accuracy: 0.8609\n",
            "Epoch 40/50\n",
            "249/249 [==============================] - 1s 2ms/step - loss: 0.3386 - accuracy: 0.8606\n",
            "Epoch 41/50\n",
            "249/249 [==============================] - 1s 2ms/step - loss: 0.3384 - accuracy: 0.8615\n",
            "Epoch 42/50\n",
            "249/249 [==============================] - 0s 2ms/step - loss: 0.3369 - accuracy: 0.8620\n",
            "Epoch 43/50\n",
            "249/249 [==============================] - 1s 2ms/step - loss: 0.3362 - accuracy: 0.8615\n",
            "Epoch 44/50\n",
            "249/249 [==============================] - 1s 2ms/step - loss: 0.3368 - accuracy: 0.8609\n",
            "Epoch 45/50\n",
            "249/249 [==============================] - 1s 2ms/step - loss: 0.3371 - accuracy: 0.8625\n",
            "Epoch 46/50\n",
            "249/249 [==============================] - 1s 2ms/step - loss: 0.3359 - accuracy: 0.8630\n",
            "Epoch 47/50\n",
            "249/249 [==============================] - 0s 2ms/step - loss: 0.3346 - accuracy: 0.8638\n",
            "Epoch 48/50\n",
            "249/249 [==============================] - 0s 2ms/step - loss: 0.3366 - accuracy: 0.8596\n",
            "Epoch 49/50\n",
            "249/249 [==============================] - 0s 2ms/step - loss: 0.3353 - accuracy: 0.8651\n",
            "Epoch 50/50\n",
            "249/249 [==============================] - 1s 2ms/step - loss: 0.3351 - accuracy: 0.8639\n"
          ]
        },
        {
          "data": {
            "text/plain": [
              "<keras.callbacks.History at 0x1fc67157490>"
            ]
          },
          "execution_count": 20,
          "metadata": {},
          "output_type": "execute_result"
        }
      ],
      "source": [
        "model.fit(X_train,y_train,epochs = 50)"
      ]
    },
    {
      "cell_type": "code",
      "execution_count": 21,
      "metadata": {
        "colab": {
          "base_uri": "https://localhost:8080/"
        },
        "execution": {
          "iopub.execute_input": "2022-08-07T17:20:21.414199Z",
          "iopub.status.busy": "2022-08-07T17:20:21.412993Z",
          "iopub.status.idle": "2022-08-07T17:20:21.752508Z",
          "shell.execute_reply": "2022-08-07T17:20:21.751442Z",
          "shell.execute_reply.started": "2022-08-07T17:20:21.414149Z"
        },
        "id": "iLvaujxESEJh",
        "outputId": "aa9b1963-6a0e-4d42-fd40-2be776441ecc",
        "trusted": true
      },
      "outputs": [
        {
          "name": "stdout",
          "output_type": "stream",
          "text": [
            "63/63 [==============================] - 0s 3ms/step - loss: 0.3455 - accuracy: 0.8553\n"
          ]
        },
        {
          "data": {
            "text/plain": [
              "[0.345542311668396, 0.855349063873291]"
            ]
          },
          "execution_count": 21,
          "metadata": {},
          "output_type": "execute_result"
        }
      ],
      "source": [
        "model.evaluate(X_test,y_test)"
      ]
    },
    {
      "cell_type": "markdown",
      "metadata": {
        "id": "58BZGRoKSEJi"
      },
      "source": [
        "**Độ chính xác khoảng 86%**"
      ]
    },
    {
      "cell_type": "markdown",
      "metadata": {
        "id": "ba2Yq5ikSEJi"
      },
      "source": [
        "#### **Dự đoán trên Test Set và sử dụng Ma trận nhầm lẫn và Báo cáo phân loại để đánh giá hiệu suất của mô hình** "
      ]
    },
    {
      "cell_type": "code",
      "execution_count": 22,
      "metadata": {
        "colab": {
          "base_uri": "https://localhost:8080/"
        },
        "execution": {
          "iopub.execute_input": "2022-08-07T17:20:21.754835Z",
          "iopub.status.busy": "2022-08-07T17:20:21.753964Z",
          "iopub.status.idle": "2022-08-07T17:20:22.043547Z",
          "shell.execute_reply": "2022-08-07T17:20:22.041825Z",
          "shell.execute_reply.started": "2022-08-07T17:20:21.754799Z"
        },
        "id": "uJJrAplISEJi",
        "outputId": "c836ce7e-2d70-4e41-fc74-1763db0c0bac",
        "trusted": true
      },
      "outputs": [
        {
          "name": "stdout",
          "output_type": "stream",
          "text": [
            "63/63 [==============================] - 0s 2ms/step\n"
          ]
        }
      ],
      "source": [
        "yp = model.predict(X_test)\n",
        "\n",
        "y_pred = []\n",
        "for element in yp:\n",
        "    if element>0.5:\n",
        "        y_pred.append(1)\n",
        "    else:\n",
        "        y_pred.append(0)"
      ]
    },
    {
      "cell_type": "code",
      "execution_count": 23,
      "metadata": {
        "colab": {
          "base_uri": "https://localhost:8080/"
        },
        "execution": {
          "iopub.execute_input": "2022-08-07T17:20:22.045709Z",
          "iopub.status.busy": "2022-08-07T17:20:22.045344Z",
          "iopub.status.idle": "2022-08-07T17:20:22.064001Z",
          "shell.execute_reply": "2022-08-07T17:20:22.062328Z",
          "shell.execute_reply.started": "2022-08-07T17:20:22.045676Z"
        },
        "id": "n9CCXDo_SEJi",
        "outputId": "de0c540d-0a58-42e4-a4ad-26f9c546f4f8",
        "trusted": true
      },
      "outputs": [
        {
          "name": "stdout",
          "output_type": "stream",
          "text": [
            "              precision    recall  f1-score   support\n",
            "\n",
            "           0       0.87      0.96      0.91      1584\n",
            "           1       0.74      0.45      0.56       407\n",
            "\n",
            "    accuracy                           0.86      1991\n",
            "   macro avg       0.80      0.71      0.74      1991\n",
            "weighted avg       0.84      0.86      0.84      1991\n",
            "\n"
          ]
        }
      ],
      "source": [
        "from sklearn.metrics import confusion_matrix,classification_report\n",
        "print(classification_report(y_test,y_pred))"
      ]
    },
    {
      "cell_type": "code",
      "execution_count": 26,
      "metadata": {
        "colab": {
          "base_uri": "https://localhost:8080/",
          "height": 297
        },
        "execution": {
          "iopub.execute_input": "2022-08-07T17:20:22.066082Z",
          "iopub.status.busy": "2022-08-07T17:20:22.065668Z",
          "iopub.status.idle": "2022-08-07T17:20:22.553215Z",
          "shell.execute_reply": "2022-08-07T17:20:22.551738Z",
          "shell.execute_reply.started": "2022-08-07T17:20:22.066046Z"
        },
        "id": "Di3WPP-xSEJi",
        "outputId": "31992a88-78f9-41c7-c6fd-9ad50728cb1c",
        "trusted": true
      },
      "outputs": [
        {
          "data": {
            "text/plain": [
              "Text(33.0, 0.5, 'Truth')"
            ]
          },
          "execution_count": 26,
          "metadata": {},
          "output_type": "execute_result"
        },
        {
          "data": {
            "image/png": "[encoded data removed]",
            "text/plain": [
              "<Figure size 432x288 with 2 Axes>"
            ]
          },
          "metadata": {
            "needs_background": "light"
          },
          "output_type": "display_data"
        }
      ],
      "source": [
        "import seaborn as sn\n",
        "cm = tf.math.confusion_matrix(labels = y_test, predictions = y_pred)\n",
        "sn.heatmap(cm,annot = True,fmt ='d')\n",
        "plt.xlabel('Predicted')\n",
        "plt.ylabel('Truth')"
      ]
    }
  ],
  "metadata": {
    "colab": {
      "provenance": [],
      "toc_visible": true
    },
    "kernelspec": {
      "display_name": "Python 3",
      "language": "python",
      "name": "python3"
    },
    "language_info": {
      "codemirror_mode": {
        "name": "ipython",
        "version": 3
      },
      "file_extension": ".py",
      "mimetype": "text/x-python",
      "name": "python",
      "nbconvert_exporter": "python",
      "pygments_lexer": "ipython3",
      "version": "3.10.2 (tags/v3.10.2:a58ebcc, Jan 17 2022, 14:12:15) [MSC v.1929 64 bit (AMD64)]"
    },
    "vscode": {
      "interpreter": {
        "hash": "b2e952b4aa259fb690f99d6612021c94fd54c515d492a19859b82e8951910a33"
      }
    }
  },
  "nbformat": 4,
  "nbformat_minor": 0
}
